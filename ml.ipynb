{
 "cells": [
  {
   "cell_type": "code",
   "execution_count": 10,
   "metadata": {},
   "outputs": [],
   "source": [
    "from sklearn.pipeline import Pipeline\n",
    "from sklearn.linear_model import LogisticRegression\n",
    "from sklearn.ensemble import RandomForestClassifier\n",
    "from sklearn.decomposition import PCA\n",
    "from sklearn.model_selection import GridSearchCV, train_test_split\n",
    "from sklearn.datasets import load_iris\n",
    "import pandas as pd"
   ]
  },
  {
   "cell_type": "code",
   "execution_count": 12,
   "metadata": {},
   "outputs": [],
   "source": [
    "pipeline = Pipeline([\n",
    "    ('dim_reduction', PCA()),\n",
    "    ('clf', LogisticRegression()),\n",
    "])"
   ]
  },
  {
   "cell_type": "code",
   "execution_count": 13,
   "metadata": {},
   "outputs": [],
   "source": [
    "parameters = [\n",
    "    {\n",
    "        'clf': (LogisticRegression(),),\n",
    "        'clf__C': (0.001,0.01,0.1,1,10,100)\n",
    "    }, {\n",
    "        'clf': (RandomForestClassifier(),),\n",
    "        'clf__n_estimators': (10, 30),\n",
    "    }\n",
    "]"
   ]
  },
  {
   "cell_type": "code",
   "execution_count": 14,
   "metadata": {},
   "outputs": [],
   "source": [
    "grid_search = GridSearchCV(pipeline, parameters)"
   ]
  },
  {
   "cell_type": "code",
   "execution_count": 17,
   "metadata": {},
   "outputs": [],
   "source": [
    "X_zm = ['TRIP_TYPE', 'STAY_LENGTH_D',\n",
    "       'BOOKING_LONG_HOUL_FLAG', 'BOOKING_DOMESTIC_FLAG', 'PAX_N',\n",
    "       'INTINERARY','PAX_GENDER', 'PAX_TYPE','CORPORATE_CONTRACT_FLG',\n",
    "       'LOYAL_CUSTOMER','FLIGHT_RANGE', 'BOOKED_CLASS', 'BOOKED_CABIN',\n",
    "       'AIRCRAFT_TYPE']\n",
    "y_zm = [\"UPGRADED_FLAG.x\"]"
   ]
  },
  {
   "cell_type": "code",
   "execution_count": 25,
   "metadata": {},
   "outputs": [
    {
     "data": {
      "text/plain": [
       "<bound method DataFrame.info of        UPGRADED_FLAG.x\n",
       "0                    N\n",
       "1                    N\n",
       "2                    N\n",
       "3                    N\n",
       "4                    N\n",
       "...                ...\n",
       "499995               N\n",
       "499996               N\n",
       "499997               N\n",
       "499998               N\n",
       "499999               N\n",
       "\n",
       "[500000 rows x 1 columns]>"
      ]
     },
     "execution_count": 25,
     "metadata": {},
     "output_type": "execute_result"
    }
   ],
   "source": [
    "# some example dataset\n",
    "data = pd.read_csv(\"/home/oleh/Рабочий стол/WarsawEconometricChallenge/data/clear_chunks/chunk_clear1.csv\")\n",
    "data[y_zm].info\n",
    "\n",
    "\n",
    "# X, y = data[X_zm], data[y_zm]\n",
    "\n",
    "# print(X)\n",
    "\n",
    "\n",
    "# X_train, X_tes, y_train, y_test = train_test_split(X, y)\n",
    "# grid_search.fit(X_train, y_train)"
   ]
  }
 ],
 "metadata": {
  "interpreter": {
   "hash": "916dbcbb3f70747c44a77c7bcd40155683ae19c65e1c03b4aa3499c5328201f1"
  },
  "kernelspec": {
   "display_name": "Python 3.8.10 64-bit",
   "language": "python",
   "name": "python3"
  },
  "language_info": {
   "codemirror_mode": {
    "name": "ipython",
    "version": 3
   },
   "file_extension": ".py",
   "mimetype": "text/x-python",
   "name": "python",
   "nbconvert_exporter": "python",
   "pygments_lexer": "ipython3",
   "version": "3.8.10"
  },
  "orig_nbformat": 4
 },
 "nbformat": 4,
 "nbformat_minor": 2
}
