{
 "cells": [
  {
   "cell_type": "markdown",
   "metadata": {},
   "source": [
    "## Hypothesis 2:\n",
    "### Is the impact of summer significant and has a positive effect in the model? During summer-time people are claimed to take more leaves and travel choosing long-haul destinations, therefore they are believed to upgrade to a higher class."
   ]
  },
  {
   "cell_type": "code",
   "execution_count": 2,
   "metadata": {},
   "outputs": [],
   "source": [
    "import pandas as pd\n",
    "import re"
   ]
  },
  {
   "cell_type": "code",
   "execution_count": 21,
   "metadata": {},
   "outputs": [
    {
     "name": "stderr",
     "output_type": "stream",
     "text": [
      "/tmp/ipykernel_7526/3161528115.py:1: DtypeWarning: Columns (22,23,51,52) have mixed types. Specify dtype option on import or set low_memory=False.\n",
      "  data = pd.read_csv(\"data/chunks/chunks/chunk2.csv\")\n"
     ]
    }
   ],
   "source": [
    "data = pd.read_csv(\"data/chunks/chunks/chunk2.csv\")"
   ]
  },
  {
   "cell_type": "code",
   "execution_count": 20,
   "metadata": {},
   "outputs": [],
   "source": [
    "data = data[['BOOKING_DEPARTURE_TIME_UTC','UPGRADED_FLAG.y']]"
   ]
  },
  {
   "cell_type": "code",
   "execution_count": 5,
   "metadata": {},
   "outputs": [
    {
     "data": {
      "text/html": [
       "<div>\n",
       "<style scoped>\n",
       "    .dataframe tbody tr th:only-of-type {\n",
       "        vertical-align: middle;\n",
       "    }\n",
       "\n",
       "    .dataframe tbody tr th {\n",
       "        vertical-align: top;\n",
       "    }\n",
       "\n",
       "    .dataframe thead th {\n",
       "        text-align: right;\n",
       "    }\n",
       "</style>\n",
       "<table border=\"1\" class=\"dataframe\">\n",
       "  <thead>\n",
       "    <tr style=\"text-align: right;\">\n",
       "      <th></th>\n",
       "      <th>BOOKING_DEPARTURE_TIME_UTC</th>\n",
       "      <th>UPGRADED_FLAG.y</th>\n",
       "    </tr>\n",
       "  </thead>\n",
       "  <tbody>\n",
       "    <tr>\n",
       "      <th>0</th>\n",
       "      <td>2007-08-14 17:45:00</td>\n",
       "      <td>N</td>\n",
       "    </tr>\n",
       "    <tr>\n",
       "      <th>1</th>\n",
       "      <td>2007-08-14 17:45:00</td>\n",
       "      <td>N</td>\n",
       "    </tr>\n",
       "    <tr>\n",
       "      <th>2</th>\n",
       "      <td>2007-08-14 17:45:00</td>\n",
       "      <td>N</td>\n",
       "    </tr>\n",
       "    <tr>\n",
       "      <th>3</th>\n",
       "      <td>2007-08-14 17:45:00</td>\n",
       "      <td>N</td>\n",
       "    </tr>\n",
       "    <tr>\n",
       "      <th>4</th>\n",
       "      <td>2007-07-04 14:55:00</td>\n",
       "      <td>N</td>\n",
       "    </tr>\n",
       "    <tr>\n",
       "      <th>...</th>\n",
       "      <td>...</td>\n",
       "      <td>...</td>\n",
       "    </tr>\n",
       "    <tr>\n",
       "      <th>499995</th>\n",
       "      <td>2007-09-14 04:00:00</td>\n",
       "      <td>N</td>\n",
       "    </tr>\n",
       "    <tr>\n",
       "      <th>499996</th>\n",
       "      <td>2007-09-14 04:00:00</td>\n",
       "      <td>N</td>\n",
       "    </tr>\n",
       "    <tr>\n",
       "      <th>499997</th>\n",
       "      <td>2007-09-14 04:00:00</td>\n",
       "      <td>N</td>\n",
       "    </tr>\n",
       "    <tr>\n",
       "      <th>499998</th>\n",
       "      <td>2007-09-14 04:00:00</td>\n",
       "      <td>N</td>\n",
       "    </tr>\n",
       "    <tr>\n",
       "      <th>499999</th>\n",
       "      <td>2007-09-14 04:00:00</td>\n",
       "      <td>N</td>\n",
       "    </tr>\n",
       "  </tbody>\n",
       "</table>\n",
       "<p>500000 rows × 2 columns</p>\n",
       "</div>"
      ],
      "text/plain": [
       "       BOOKING_DEPARTURE_TIME_UTC UPGRADED_FLAG.y\n",
       "0             2007-08-14 17:45:00               N\n",
       "1             2007-08-14 17:45:00               N\n",
       "2             2007-08-14 17:45:00               N\n",
       "3             2007-08-14 17:45:00               N\n",
       "4             2007-07-04 14:55:00               N\n",
       "...                           ...             ...\n",
       "499995        2007-09-14 04:00:00               N\n",
       "499996        2007-09-14 04:00:00               N\n",
       "499997        2007-09-14 04:00:00               N\n",
       "499998        2007-09-14 04:00:00               N\n",
       "499999        2007-09-14 04:00:00               N\n",
       "\n",
       "[500000 rows x 2 columns]"
      ]
     },
     "execution_count": 5,
     "metadata": {},
     "output_type": "execute_result"
    }
   ],
   "source": [
    "data"
   ]
  },
  {
   "cell_type": "code",
   "execution_count": 24,
   "metadata": {},
   "outputs": [],
   "source": [
    "pattern = r'2007-0[6|7|8]-\\d\\d \\d\\d:\\d\\d:\\d\\d'\n",
    "\n",
    "filter = data['BOOKING_DEPARTURE_TIME_UTC'].str.contains(pattern)\n",
    "\n",
    "\n",
    "data = data[filter==True]"
   ]
  },
  {
   "cell_type": "code",
   "execution_count": 25,
   "metadata": {},
   "outputs": [],
   "source": [
    "data1 = data[\"BOOKING_DEPARTURE_TIME_UTC\"]\n",
    "data2 = data[\"UPGRADED_FLAG.y\"]"
   ]
  },
  {
   "cell_type": "code",
   "execution_count": 26,
   "metadata": {},
   "outputs": [
    {
     "name": "stdout",
     "output_type": "stream",
     "text": [
      "UPGRADED_FLAG.y              N  Y\n",
      "BOOKING_DEPARTURE_TIME_UTC       \n",
      "2007-06-01 00:40:00         56  0\n",
      "2007-06-01 01:55:00          3  0\n",
      "2007-06-01 02:00:00         34  0\n",
      "2007-06-01 02:05:00         56  0\n",
      "2007-06-01 02:30:00         75  2\n",
      "...                         .. ..\n",
      "2007-08-31 21:30:00         10  0\n",
      "2007-08-31 22:25:00         22  0\n",
      "2007-08-31 23:05:00         31  0\n",
      "2007-08-31 23:20:00          1  0\n",
      "2007-08-31 23:25:00         35  1\n",
      "\n",
      "[8891 rows x 2 columns]\n",
      "stat=19396.29, p=0.0\n",
      "\n",
      "Probably dependent\n"
     ]
    },
    {
     "data": {
      "image/png": "[encoded data removed]",
      "text/plain": [
       "<Figure size 432x288 with 1 Axes>"
      ]
     },
     "metadata": {
      "needs_background": "light"
     },
     "output_type": "display_data"
    }
   ],
   "source": [
    "from scipy.stats import chi2_contingency\n",
    "\n",
    "# A cross tabulation report is used to analyze the relationship between two variables(or more).\n",
    "CrosstabResult=pd.crosstab(index=data1,columns=data2)\n",
    "\n",
    "print(CrosstabResult)\n",
    "\n",
    "# As you can see from the graph, the relationship between the data is zero\n",
    "barplot = CrosstabResult.plot.bar(rot=0)\t\n",
    "\n",
    "# Get chi2 and probability\n",
    "chi2, p,_,_ = chi2_contingency(CrosstabResult)\n",
    "\n",
    "\n",
    "print('stat={0:.2f}, p={1}\\n'.format(chi2, p))\n",
    "\n",
    "\n",
    "\n",
    "if p > 0.05:\n",
    "\tprint('Probably independent')\n",
    "else:\n",
    "\tprint('Probably dependent')"
   ]
  }
 ],
 "metadata": {
  "interpreter": {
   "hash": "2b6b6fec938c5e380a466b15144a186d7568189eba10bcce2fd7626f5298fb5c"
  },
  "kernelspec": {
   "display_name": "Python 3.8.10 ('venv': venv)",
   "language": "python",
   "name": "python3"
  },
  "language_info": {
   "codemirror_mode": {
    "name": "ipython",
    "version": 3
   },
   "file_extension": ".py",
   "mimetype": "text/x-python",
   "name": "python",
   "nbconvert_exporter": "python",
   "pygments_lexer": "ipython3",
   "version": "3.8.10"
  },
  "orig_nbformat": 4
 },
 "nbformat": 4,
 "nbformat_minor": 2
}
