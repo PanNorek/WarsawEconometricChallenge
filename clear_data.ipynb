{
 "cells": [
  {
   "cell_type": "code",
   "execution_count": 3,
   "metadata": {},
   "outputs": [],
   "source": [
    "import pandas as pd"
   ]
  },
  {
   "cell_type": "code",
   "execution_count": 4,
   "metadata": {},
   "outputs": [
    {
     "name": "stderr",
     "output_type": "stream",
     "text": [
      "/tmp/ipykernel_37770/3948434650.py:1: DtypeWarning: Columns (22,23,51,52) have mixed types. Specify dtype option on import or set low_memory=False.\n",
      "  data = pd.read_csv('/home/oleh/Рабочий стол/WarsawEconometricChallenge/data/chunks/chunk1.csv')\n"
     ]
    }
   ],
   "source": [
    "data = pd.read_csv('/home/oleh/Рабочий стол/WarsawEconometricChallenge/data/chunks/chunk1.csv')"
   ]
  },
  {
   "cell_type": "code",
   "execution_count": 9,
   "metadata": {},
   "outputs": [],
   "source": [
    "to_delete = ['Unnamed: 0','TICKET_NUMBER','BOOKING_ID','SALES_DATE.x',\n",
    "       'SALES_MARKET','BOOKING_WINDOW_D','FLIGHT_COUPONS', 'SEGMENTS', 'BOOKING_ORIGIN_AIRPORT', 'BOOKING_ORIGIN_COUNTRY_CODE',\n",
    "       'BOOKING_DEPARTURE_TIME_UTC', 'BOOKING_DESTINATION_AIRPORT','BOOKING_DESTINATION_COUNTRY_CODE', 'BOOKING_ARRIVAL_TIME_UTC','UPGRADE_SALES_DATE.x','ORIGINAL_TICKET_NUMBER','CURRENCY.x',\n",
    "       'TOTAL_PRICE.x','LOYAL_CUSTOMER_ID','LOYAL_CUSTOMER_DATE_OF_BIRTH', 'LOYAL_CUSTOMER_REGISTERED_DATE',\n",
    "       'COUPON_NUMBER.x','TIME_DEPARTURE_LOCAL_TIME', 'FLIGHT_DISTANCE','MARKETING_CARRIER', 'OPERATIONAL_CARRIER',\n",
    "        'FARE_BASIS', 'VAB','UPGRADE_SALES_DATE.y', 'EMD_TICKET_NUMBER',\n",
    "       'COUPON_NUMBER.y', 'SALES_DATE.y','ORIGIN_AIRPORT_CODE.y', 'DESTINATION_AIRPORT_CODE.y','CURRENCY.y', 'TOTAL_PRICE.y']\n",
    "\n",
    "\n",
    "\n",
    "data.drop(to_delete, axis=1).to_csv(\"data/clear_chunks/chunk_clear1.csv\")"
   ]
  }
 ],
 "metadata": {
  "interpreter": {
   "hash": "916dbcbb3f70747c44a77c7bcd40155683ae19c65e1c03b4aa3499c5328201f1"
  },
  "kernelspec": {
   "display_name": "Python 3.8.10 64-bit",
   "language": "python",
   "name": "python3"
  },
  "language_info": {
   "codemirror_mode": {
    "name": "ipython",
    "version": 3
   },
   "file_extension": ".py",
   "mimetype": "text/x-python",
   "name": "python",
   "nbconvert_exporter": "python",
   "pygments_lexer": "ipython3",
   "version": "3.8.10"
  },
  "orig_nbformat": 4
 },
 "nbformat": 4,
 "nbformat_minor": 2
}
