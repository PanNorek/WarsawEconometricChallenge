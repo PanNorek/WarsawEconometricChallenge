{
 "cells": [
  {
   "cell_type": "markdown",
   "metadata": {},
   "source": [
    "## Hypothesis 1: \n",
    "### Is there a correlation between choosing a long-haul flight and making an upgrade to a higher class? Customers can take more advantage of higher class amenities when traveling long-haul."
   ]
  },
  {
   "cell_type": "code",
   "execution_count": 1,
   "metadata": {},
   "outputs": [
    {
     "name": "stderr",
     "output_type": "stream",
     "text": [
      "/tmp/ipykernel_16442/757028801.py:3: DtypeWarning: Columns (22,23,51,52) have mixed types. Specify dtype option on import or set low_memory=False.\n",
      "  all_data = pd.read_csv(\"data/chunks/chunk1.csv\")\n"
     ]
    }
   ],
   "source": [
    "import pandas as pd\n",
    "\n",
    "all_data = pd.read_csv(\"data/chunks/chunk1.csv\")    # Path to data\n",
    "data1 = all_data[\"BOOKING_LONG_HOUL_FLAG\"]          # Data about long-haul flight\n",
    "data2 = all_data[\"UPGRADED_FLAG.y\"]                 # Information on whether the person has improved the class of his ticket"
   ]
  },
  {
   "cell_type": "code",
   "execution_count": 3,
   "metadata": {},
   "outputs": [
    {
     "name": "stdout",
     "output_type": "stream",
     "text": [
      "UPGRADED_FLAG.y              N    Y\n",
      "BOOKING_LONG_HOUL_FLAG             \n",
      "N                       375299   24\n",
      "Y                       123811  866\n",
      "stat=2490.75, p=0.0\n",
      "\n",
      "Probably dependent\n"
     ]
    },
    {
     "data": {
      "image/png": "[encoded data removed]",
      "text/plain": [
       "<Figure size 432x288 with 1 Axes>"
      ]
     },
     "metadata": {
      "needs_background": "light"
     },
     "output_type": "display_data"
    }
   ],
   "source": [
    "from scipy.stats import chi2_contingency\n",
    "\n",
    "# A cross tabulation report is used to analyze the relationship between two variables(or more).\n",
    "CrosstabResult=pd.crosstab(index=data1,columns=data2)\n",
    "\n",
    "# print(CrosstabResult)\n",
    "\n",
    "# As you can see from the graph, the relationship between the data is zero\n",
    "barplot = CrosstabResult.plot.bar(rot=0)\t\n",
    "\n",
    "# Get chi2 and probability\n",
    "chi2, p,_,_ = chi2_contingency(CrosstabResult)\n",
    "\n",
    "\n",
    "print('stat={0:.2f}, p={1}\\n'.format(chi2, p))\n",
    "\n",
    "\n",
    "\n",
    "if p > 0.05:\n",
    "\tprint('Probably independent')\n",
    "else:\n",
    "\tprint('Probably dependent')"
   ]
  }
 ],
 "metadata": {
  "interpreter": {
   "hash": "2b6b6fec938c5e380a466b15144a186d7568189eba10bcce2fd7626f5298fb5c"
  },
  "kernelspec": {
   "display_name": "Python 3.8.10 ('venv': venv)",
   "language": "python",
   "name": "python3"
  },
  "language_info": {
   "codemirror_mode": {
    "name": "ipython",
    "version": 3
   },
   "file_extension": ".py",
   "mimetype": "text/x-python",
   "name": "python",
   "nbconvert_exporter": "python",
   "pygments_lexer": "ipython3",
   "version": "3.8.10"
  },
  "orig_nbformat": 4
 },
 "nbformat": 4,
 "nbformat_minor": 2
}
